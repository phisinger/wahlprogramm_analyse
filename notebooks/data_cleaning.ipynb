{
 "cells": [
  {
   "cell_type": "code",
   "execution_count": 83,
   "metadata": {},
   "outputs": [],
   "source": [
    "import os\n",
    "from pathlib import Path\n",
    "import pandas as pd\n",
    "import spacy\n",
    "import re\n",
    "import codecs"
   ]
  },
  {
   "cell_type": "markdown",
   "metadata": {},
   "source": [
    "## Import text files"
   ]
  },
  {
   "cell_type": "code",
   "execution_count": 84,
   "metadata": {},
   "outputs": [],
   "source": [
    "txt_data_path = os.path.join(Path().resolve().parent, \"data\", \"text\")\n",
    "\n",
    "text_data = {}\n",
    "\n",
    "for year in [\"2013\", \"2017\", \"2021\"]:\n",
    "    text_data[year] = {}\n",
    "    for party in [\"spd\", \"fdp\", \"cdu\", \"afd\", \"gruene\", \"linke\"]:\n",
    "        filename = party + \"_\" + year + \".txt\"\n",
    "        file_path = os.path.join(txt_data_path, filename)\n",
    "\n",
    "        # read txt\n",
    "        in_file = codecs.open(file_path, \"r\", encoding=\"utf-8\")\n",
    "        text_data[year][party] = in_file.read()\n",
    "        in_file.close()"
   ]
  },
  {
   "cell_type": "markdown",
   "metadata": {},
   "source": [
    "## Clean Data\n",
    "### General cleansing steps for all texts"
   ]
  },
  {
   "cell_type": "code",
   "execution_count": 85,
   "metadata": {},
   "outputs": [],
   "source": [
    "for year in [\"2013\", \"2017\", \"2021\"]:\n",
    "    for party in [\"spd\", \"fdp\", \"cdu\", \"afd\", \"gruene\", \"linke\"]:\n",
    "        text_data[year][party] = text_data[year][party] \\\n",
    "        .replace(\"•\", \"\") \\\n",
    "        .replace(\"-\\\\n\", \"\") \\\n",
    "        .replace(\"\\\\t\", \"\")\n",
    "        # .replace(\"--\", \"\") \\\n",
    "        # .replace(\"(cid:1)\\\\n\", \"\") \\\n",
    "        \n",
    "        # .replace(\"cid:1\", \"\")\n",
    "        # replace new lines with direct following characters\n",
    "        text_data[year][party] = re.sub(\"\\\\n(.)\", \" \\\\1\", text_data[year][party])"
   ]
  },
  {
   "cell_type": "markdown",
   "metadata": {},
   "source": [
    "### Cleaning \"Bündnis 90/ Die Grünen\" (the Greens) texts"
   ]
  },
  {
   "cell_type": "code",
   "execution_count": 86,
   "metadata": {},
   "outputs": [],
   "source": [
    "for year in [\"2013\", \"2017\", \"2021\"]:\n",
    "    header_1 = \"Bundestagswahlprogramm \" + year + \" BÜNDNIS 90/DIE GRÜNEN\"\n",
    "    header_2 = \"Bundestagswahlprogramm \" + year + \" BÜNDNIS 90 / DIE GRÜNEN\"\n",
    "    text_data[year][\"gruene\"] = \\\n",
    "        text_data[year][\"gruene\"].replace(header_1, header_2)\\\n",
    "            .replace(header_2, \"\") \n",
    "text_data[\"2013\"][\"gruene\"] = text_data[\"2013\"][\"gruene\"].replace(\"Teilhaben. Einmischen. Zukunft schaffen.\", \"\")\n",
    "            "
   ]
  },
  {
   "cell_type": "markdown",
   "metadata": {},
   "source": [
    "## Store cleaned data"
   ]
  },
  {
   "cell_type": "code",
   "execution_count": 87,
   "metadata": {},
   "outputs": [],
   "source": [
    "txt_data_path = os.path.join(Path().resolve().parent, \"data\", \"cleaned\")\n",
    "\n",
    "for year in [\"2013\", \"2017\", \"2021\"]:\n",
    "    for party in [\"spd\", \"fdp\", \"cdu\", \"afd\", \"gruene\", \"linke\"]:\n",
    "        filename = party + \"_\" + year + \".txt\"\n",
    "        file_path = os.path.join(txt_data_path, filename)\n",
    "\n",
    "        # write cleaned txt\n",
    "        out_file = open(file_path, \"w+\", encoding=\"utf-8\")\n",
    "        out_file.write(text_data[year][party])\n",
    "        out_file.close()"
   ]
  },
  {
   "cell_type": "code",
   "execution_count": null,
   "metadata": {},
   "outputs": [],
   "source": []
  }
 ],
 "metadata": {
  "kernelspec": {
   "display_name": "text310",
   "language": "python",
   "name": "python3"
  },
  "language_info": {
   "codemirror_mode": {
    "name": "ipython",
    "version": 3
   },
   "file_extension": ".py",
   "mimetype": "text/x-python",
   "name": "python",
   "nbconvert_exporter": "python",
   "pygments_lexer": "ipython3",
   "version": "3.10.12"
  },
  "orig_nbformat": 4
 },
 "nbformat": 4,
 "nbformat_minor": 2
}
