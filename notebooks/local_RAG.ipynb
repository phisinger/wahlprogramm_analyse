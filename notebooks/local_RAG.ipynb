{
 "cells": [
  {
   "cell_type": "markdown",
   "metadata": {},
   "source": [
    "# Generative AI App\n",
    "Loads documents into a vector database (chroma) and  uses GPT4All's Mistral 7b Open Orca LLM."
   ]
  },
  {
   "cell_type": "code",
   "execution_count": 1,
   "metadata": {},
   "outputs": [],
   "source": [
    "from langchain.document_loaders import TextLoader, DirectoryLoader\n",
    "from langchain.text_splitter import RecursiveCharacterTextSplitter\n",
    "from langchain.embeddings import GPT4AllEmbeddings\n",
    "from langchain.vectorstores import Chroma\n",
    "import sys"
   ]
  },
  {
   "cell_type": "code",
   "execution_count": 2,
   "metadata": {},
   "outputs": [],
   "source": [
    "# Load Model\n",
    "from langchain.llms import GPT4All\n",
    "\n",
    "llm = GPT4All(\n",
    "    model=\"/home/phisinger/Programmieren/wahlprogramm_analyse/models/mistral-7b-openorca.Q4_0.gguf\",\n",
    "    max_tokens=2048,\n",
    ")"
   ]
  },
  {
   "cell_type": "code",
   "execution_count": 3,
   "metadata": {},
   "outputs": [
    {
     "name": "stdout",
     "output_type": "stream",
     "text": [
      "bert_load_from_file: gguf version     = 2\n",
      "bert_load_from_file: gguf alignment   = 32\n",
      "bert_load_from_file: gguf data offset = 695552\n",
      "bert_load_from_file: model name           = BERT\n",
      "bert_load_from_file: model architecture   = bert\n",
      "bert_load_from_file: model file type      = 1\n",
      "bert_load_from_file: bert tokenizer vocab = 30522\n"
     ]
    }
   ],
   "source": [
    "sys.path.insert(1, '/home/phisinger/Programmieren/wahlprogramm_analyse')\n",
    "from GenAI.Vectorstore import Vectorstore_client\n",
    "\n",
    "db_client = Vectorstore_client()\n",
    "db_client = db_client.get_client()\n",
    "\n",
    "langchain_chroma = Chroma(\n",
    "    client=db_client,\n",
    "    collection_name=\"2021\",\n",
    "    embedding_function=GPT4AllEmbeddings(),\n",
    ")\n",
    "\n",
    "# Prepare chain to ask questions\n",
    "from langchain.chains import RetrievalQA\n",
    "from langchain.prompts import PromptTemplate\n",
    "\n",
    "german_prompt = \"\"\"Beantworten Sie die Frage am Ende des Textes anhand der folgenden Informationen. Wenn Sie die Antwort nicht wissen, sagen Sie einfach, dass Sie es nicht wissen, versuchen Sie nicht, eine Antwort zu erfinden.\n",
    "\n",
    "{context}\n",
    "\n",
    "Frage: {question}\n",
    "Hilfreiche Antwort:\"\"\"\n",
    "german_prompt = PromptTemplate(\n",
    "    template=german_prompt, input_variables=[\"context\", \"question\"]\n",
    ")\n",
    "\n",
    "\n",
    "qa_chain = RetrievalQA.from_chain_type(\n",
    "    llm,\n",
    "    retriever=langchain_chroma.as_retriever(),\n",
    "    chain_type_kwargs={\"prompt\": german_prompt},\n",
    ")"
   ]
  },
  {
   "cell_type": "code",
   "execution_count": 4,
   "metadata": {},
   "outputs": [
    {
     "data": {
      "text/plain": [
       "{'query': 'Wie wollen die Grünen die Bahn umbauen?',\n",
       " 'result': ' Die Grünen möchten die Bahn umfassend ausbauen und für alle bezahlbar machen, indem sie das Angebot und den Streckennetz der Bahn flächendeckend erweitern. Sie fordern verlässliche, getaktete Fahrpläne und barrierefreie und nutzerfreundliche Bahnhöfe und Züge mit Servicepersonal. Darüber hinaus wollen sie die Geschäftspolitik der Deutschen Bahn am gemeinwohlertrag und der ökologischen Nachhaltigkeit ausrichten, um eine Beschleunigung in der Umsetzung zu erreichen. Sie planen auch eine umfassende Ausbildungs- und Forschungsoffensive einzuleiten, um die Leistungsfähigkeit und Zuverlässigkeit der Bahn weiter zu verbessern. Zudem wollen sie den Deutschlandtakt weiterentwickeln und realisieren, um attraktive und für alle bezahlbare Mobilitätsangebote in Stadt und Land zu schaffen.\\n'}"
      ]
     },
     "execution_count": 4,
     "metadata": {},
     "output_type": "execute_result"
    },
    {
     "ename": "",
     "evalue": "",
     "output_type": "error",
     "traceback": [
      "\u001b[1;31mThe Kernel crashed while executing code in the the current cell or a previous cell. Please review the code in the cell(s) to identify a possible cause of the failure. Click <a href='https://aka.ms/vscodeJupyterKernelCrash'>here</a> for more info. View Jupyter <a href='command:jupyter.viewOutput'>log</a> for further details."
     ]
    }
   ],
   "source": [
    "# Ask a question\n",
    "question = \"Wie wollen die Grünen die Bahn umbauen?\"\n",
    "qa_chain({\"query\": question})"
   ]
  },
  {
   "cell_type": "code",
   "execution_count": null,
   "metadata": {},
   "outputs": [],
   "source": []
  }
 ],
 "metadata": {
  "kernelspec": {
   "display_name": "llm310",
   "language": "python",
   "name": "python3"
  },
  "language_info": {
   "codemirror_mode": {
    "name": "ipython",
    "version": 3
   },
   "file_extension": ".py",
   "mimetype": "text/x-python",
   "name": "python",
   "nbconvert_exporter": "python",
   "pygments_lexer": "ipython3",
   "version": "3.10.13"
  }
 },
 "nbformat": 4,
 "nbformat_minor": 2
}
