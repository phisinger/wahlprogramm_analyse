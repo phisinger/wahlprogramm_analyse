{
 "cells": [
  {
   "cell_type": "code",
   "execution_count": 2,
   "metadata": {},
   "outputs": [
    {
     "name": "stderr",
     "output_type": "stream",
     "text": [
      "Matplotlib created a temporary cache directory at /tmp/matplotlib-247ctcc6 because the default path (/home/phisinger/.config/matplotlib) is not a writable directory; it is highly recommended to set the MPLCONFIGDIR environment variable to a writable directory, in particular to speed up the import of Matplotlib and to better support multiprocessing.\n"
     ]
    }
   ],
   "source": [
    "import os\n",
    "from pathlib import Path\n",
    "import pandas as pd\n",
    "import spacy\n",
    "import re\n",
    "import codecs\n",
    "import plotly.express as px\n",
    "import sys\n",
    "import matplotlib.pyplot as plt\n",
    "sys.path.insert(1, \"/home/phisinger/Programmieren/wahlprogramm_analyse/preprocessing\")\n",
    "from FileHandler import FileHandler"
   ]
  },
  {
   "cell_type": "markdown",
   "metadata": {},
   "source": [
    "## Import text files"
   ]
  },
  {
   "cell_type": "code",
   "execution_count": 3,
   "metadata": {},
   "outputs": [
    {
     "name": "stdout",
     "output_type": "stream",
     "text": [
      "Read files from:  /home/phisinger/Programmieren/wahlprogramm_analyse/data/clean\n"
     ]
    }
   ],
   "source": [
    "fh = FileHandler()\n",
    "text_data = fh.open_txt_files(\"clean\")"
   ]
  },
  {
   "cell_type": "markdown",
   "metadata": {},
   "source": [
    "## Load language spacy model\n",
    "Give every word a class (noun, verb, etc)."
   ]
  },
  {
   "cell_type": "code",
   "execution_count": 4,
   "metadata": {},
   "outputs": [],
   "source": [
    "\n",
    "# select pipeline for German\n",
    "# choose between speed and accuracy\n",
    "mode = \"speed\" # \"accuracy\"\n",
    "if mode == \"speed\":\n",
    "    nlp = spacy.load(\"de_core_news_sm\")\n",
    "    nlp.max_length = 200000\n",
    "else:\n",
    "    nlp = spacy.load(\"de_dep_news_trf\")\n",
    "nlp.max_length = 200000"
   ]
  },
  {
   "cell_type": "markdown",
   "metadata": {},
   "source": [
    "## Analyze most used Nouns and store the plots\n",
    "Each word is now categorized and the nouns are visualized. Visualisations are stored."
   ]
  },
  {
   "cell_type": "code",
   "execution_count": 5,
   "metadata": {},
   "outputs": [
    {
     "name": "stdout",
     "output_type": "stream",
     "text": [
      "Tokenization finsihed for afd 2013\n",
      "Digram stored for afd 2013\n",
      "Tokenization finsihed for cdu 2013\n",
      "Digram stored for cdu 2013\n",
      "Tokenization finsihed for fdp 2013\n",
      "Digram stored for fdp 2013\n",
      "Tokenization finsihed for gruene 2013\n",
      "Digram stored for gruene 2013\n",
      "Tokenization finsihed for linke 2013\n",
      "Digram stored for linke 2013\n",
      "Tokenization finsihed for spd 2013\n",
      "Digram stored for spd 2013\n",
      "Tokenization finsihed for afd 2017\n",
      "Digram stored for afd 2017\n",
      "Tokenization finsihed for cdu 2017\n",
      "Digram stored for cdu 2017\n",
      "Tokenization finsihed for fdp 2017\n",
      "Digram stored for fdp 2017\n",
      "Tokenization finsihed for gruene 2017\n",
      "Digram stored for gruene 2017\n",
      "Tokenization finsihed for linke 2017\n",
      "Digram stored for linke 2017\n",
      "Tokenization finsihed for spd 2017\n",
      "Digram stored for spd 2017\n",
      "Tokenization finsihed for afd 2021\n",
      "Digram stored for afd 2021\n",
      "Tokenization finsihed for cdu 2021\n",
      "Digram stored for cdu 2021\n",
      "Tokenization finsihed for fdp 2021\n",
      "Digram stored for fdp 2021\n",
      "Tokenization finsihed for gruene 2021\n",
      "Digram stored for gruene 2021\n",
      "Tokenization finsihed for linke 2021\n",
      "Digram stored for linke 2021\n",
      "Tokenization finsihed for spd 2021\n",
      "Digram stored for spd 2021\n"
     ]
    }
   ],
   "source": [
    "path = \"../analysis/most_used_words\"\n",
    "if not os.path.exists(path):\n",
    "    os.mkdir(path)\n",
    "for year in text_data.keys():\n",
    "    for party in text_data[year].keys():\n",
    "        text = text_data[year][party][0]\n",
    "        tokens_list = []\n",
    "        # analyze\n",
    "        for num_chunks in range((len(text)//50000)+1):\n",
    "            chunk = nlp(str(text[(num_chunks*50000):((1+num_chunks)*50000-1)]))\n",
    "            for token in chunk:\n",
    "                tokens_list.append({\n",
    "                    \"Text\":     token.text,\n",
    "                    \"Lemma\":    token.lemma_,\n",
    "                    \"POS\":      token.pos_,\n",
    "                    \"Tag\":      token.tag_,\n",
    "                    \"Dep\":      token.dep_,\n",
    "                    \"Shape\":    token.shape_,\n",
    "                    \"Alpha\":    token.is_alpha, \n",
    "                    \"Stop\":     token.is_stop\n",
    "                })\n",
    "        print(f\"Tokenization finsihed for {party} {year}\")\n",
    "        token_df = pd.DataFrame(tokens_list)\n",
    "        \n",
    "        nouns_df = token_df[token_df[\"POS\"] == \"PROPN\"]\n",
    "        # remove text that is wrongly assigned as nouns\n",
    "        nouns_df = nouns_df[nouns_df[\"Lemma\"] != \"muss\"]\n",
    "        nouns_df = nouns_df[nouns_df[\"Lemma\"] != \"Muss\"]\n",
    "        important_nouns = nouns_df[\"Lemma\"].value_counts()[0:21]\n",
    "        # visualize\n",
    "        fig = px.bar(important_nouns.sort_values(), x=\"count\")\n",
    "        # store\n",
    "        fig.write_image(f\"{path}/{party}_{year}.png\")\n",
    "        print(f\"Digram stored for {party} {year}\")"
   ]
  },
  {
   "cell_type": "markdown",
   "metadata": {},
   "source": [
    "## Generate a slopeplot to compare between parties\n",
    "A slopeplot will be generated to assess the frequency of nouns in election programs of different parties. Note, that for this analysis all years are combined. Actions:\n",
    "1. Sum word counts for all years per party\n",
    "2. Select the words that are present in all programs\n",
    "3. Design the plot\n",
    "\n",
    "### 1. Sum word counts for all years per party"
   ]
  },
  {
   "cell_type": "code",
   "execution_count": 12,
   "metadata": {},
   "outputs": [
    {
     "name": "stdout",
     "output_type": "stream",
     "text": [
      "Tokenization finsihed for afd\n",
      "Tokenization finsihed for cdu\n",
      "Tokenization finsihed for fdp\n",
      "Tokenization finsihed for gruene\n",
      "Tokenization finsihed for linke\n",
      "Tokenization finsihed for spd\n"
     ]
    }
   ],
   "source": [
    "years = text_data.keys()\n",
    "parties = text_data[\"2017\"].keys()\n",
    "slope_counts_dict = {}\n",
    "\n",
    "for party in parties:\n",
    "    party_text = \"\"\n",
    "    # concatenate all years together\n",
    "    for year in years:\n",
    "        party_text += text_data[year][party][0] + \"\\n\"\n",
    "    # preprocessing for better comparability\n",
    "    # replace the party name by a common placeholder: \n",
    "    \n",
    "    tokens_list = []\n",
    "    # analyze\n",
    "    for num_chunks in range((len(party_text)//50000)+1):\n",
    "        chunk = nlp(str(party_text[(num_chunks*50000):((1+num_chunks)*50000-1)]))\n",
    "        for token in chunk:\n",
    "            tokens_list.append({\n",
    "                \"Text\":     token.text,\n",
    "                \"Lemma\":    token.lemma_,\n",
    "                \"POS\":      token.pos_,\n",
    "                \"Tag\":      token.tag_,\n",
    "                \"Dep\":      token.dep_,\n",
    "                \"Shape\":    token.shape_,\n",
    "                \"Alpha\":    token.is_alpha, \n",
    "                \"Stop\":     token.is_stop\n",
    "            })\n",
    "    print(f\"Tokenization finsihed for {party}\")\n",
    "    token_df = pd.DataFrame(tokens_list)\n",
    "    \n",
    "    nouns_df = token_df[token_df[\"POS\"] == \"PROPN\"]\n",
    "    # remove text that is wrongly assigned as nouns\n",
    "    nouns_df = nouns_df[nouns_df[\"Lemma\"] != \"muss\"]\n",
    "    nouns_df = nouns_df[nouns_df[\"Lemma\"] != \"Muss\"]\n",
    "    slope_counts_dict[party] = nouns_df[\"Lemma\"].value_counts()[0:101]\n",
    "    \n",
    "        \n",
    "    "
   ]
  },
  {
   "cell_type": "markdown",
   "metadata": {},
   "source": [
    "### 2. Select the words that are present in all programs"
   ]
  },
  {
   "cell_type": "code",
   "execution_count": 13,
   "metadata": {},
   "outputs": [],
   "source": [
    "# Replace names with function\n",
    "# The own party's name is replaced by a placeholder \n",
    "# and other parties names are replaced by a placeholder\n",
    "slope_counts_dict_stndrdzd = slope_counts_dict.copy()\n",
    "for party, element in slope_counts_dict_stndrdzd.items():\n",
    "    lemma_list = element.index.to_list()\n",
    "    if party == \"gruene\":\n",
    "        self_list = [\"grünen\", \"grüne\"]\n",
    "        foreign_list = [\"spd\", \"cdu\", \"csu\", \"linke\", \"linken\", \"fdp\", \"afd\"]\n",
    "    if party == \"spd\":\n",
    "        self_list = [\"spd\"]\n",
    "        foreign_list = [\"grünen\", \"grüne\", \"cdu\", \"csu\", \"linke\", \"linken\", \"fdp\", \"afd\"]\n",
    "    if party == \"cdu\":\n",
    "        self_list = [\"cdu\", \"csu\"]\n",
    "        foreign_list = [\"grünen\", \"grüne\", \"spd\", \"linke\", \"linken\", \"fdp\", \"afd\"]\n",
    "    if party == \"fdp\":\n",
    "        self_list = [\"fdp\"]\n",
    "        foreign_list = [\"grünen\", \"grüne\", \"spd\", \"linke\", \"linken\", \"cdu\", \"csu\", \"afd\"]\n",
    "    if party == \"linke\":\n",
    "        self_list = [\"linke\", \"linken\"]\n",
    "        foreign_list = [\"grünen\", \"grüne\", \"spd\", \"fdp\", \"cdu\", \"csu\", \"afd\"]\n",
    "    if party == \"afd\":\n",
    "        self_list = [\"afd\"]\n",
    "        foreign_list = [\"grünen\", \"grüne\", \"spd\", \"linke\", \"linken\", \"cdu\", \"csu\", \"fdp\"]\n",
    "    lemma_list = [\"OWN PARTY\" if lemma.lower() in self_list else lemma for lemma in lemma_list]\n",
    "    lemma_list = [\"FOREIGN PARTY\" if lemma.lower() in foreign_list else lemma for lemma in lemma_list] \n",
    "    element.index = lemma_list\n",
    "    slope_counts_dict_stndrdzd[party] = element"
   ]
  },
  {
   "cell_type": "code",
   "execution_count": 14,
   "metadata": {},
   "outputs": [],
   "source": [
    "def find_common_elements(*lists):\n",
    "    if not lists:\n",
    "        return []\n",
    "    \n",
    "    # Convert each list to a set\n",
    "    sets = [set(lst) for lst in lists[0]]\n",
    "\n",
    "    # Find the intersection of all sets\n",
    "    common_elements = set.intersection(*sets)\n",
    "\n",
    "    return list(common_elements)\n",
    "\n",
    "lemma_lists = []\n",
    "for lemma_series in list(slope_counts_dict_stndrdzd.values()):\n",
    "    lemma_lists.append(lemma_series.index.to_list())\n",
    "common_elements = find_common_elements(lemma_lists)\n",
    "\n",
    "# drop all indexes that are not present in common_elements\n",
    "slope_counts_dict_cmmn = slope_counts_dict_stndrdzd.copy()\n",
    "for party, lemma_series in slope_counts_dict.items():\n",
    "    slope_counts_dict_cmmn[party] = lemma_series[lemma_series.index.isin(common_elements)]\n",
    "    "
   ]
  },
  {
   "cell_type": "markdown",
   "metadata": {},
   "source": [
    "### 3. Design the plot"
   ]
  },
  {
   "cell_type": "code",
   "execution_count": 15,
   "metadata": {},
   "outputs": [
    {
     "data": {
      "text/html": [
       "<div>\n",
       "<style scoped>\n",
       "    .dataframe tbody tr th:only-of-type {\n",
       "        vertical-align: middle;\n",
       "    }\n",
       "\n",
       "    .dataframe tbody tr th {\n",
       "        vertical-align: top;\n",
       "    }\n",
       "\n",
       "    .dataframe thead th {\n",
       "        text-align: right;\n",
       "    }\n",
       "</style>\n",
       "<table border=\"1\" class=\"dataframe\">\n",
       "  <thead>\n",
       "    <tr style=\"text-align: right;\">\n",
       "      <th></th>\n",
       "      <th>lemma</th>\n",
       "      <th>Party</th>\n",
       "      <th>amount</th>\n",
       "    </tr>\n",
       "  </thead>\n",
       "  <tbody>\n",
       "    <tr>\n",
       "      <th>0</th>\n",
       "      <td>Deutschland</td>\n",
       "      <td>afd</td>\n",
       "      <td>248</td>\n",
       "    </tr>\n",
       "    <tr>\n",
       "      <th>1</th>\n",
       "      <td>Europa</td>\n",
       "      <td>afd</td>\n",
       "      <td>55</td>\n",
       "    </tr>\n",
       "    <tr>\n",
       "      <th>2</th>\n",
       "      <td>EU</td>\n",
       "      <td>afd</td>\n",
       "      <td>53</td>\n",
       "    </tr>\n",
       "    <tr>\n",
       "      <th>3</th>\n",
       "      <td>ezb</td>\n",
       "      <td>afd</td>\n",
       "      <td>24</td>\n",
       "    </tr>\n",
       "    <tr>\n",
       "      <th>4</th>\n",
       "      <td>Türkei</td>\n",
       "      <td>afd</td>\n",
       "      <td>18</td>\n",
       "    </tr>\n",
       "  </tbody>\n",
       "</table>\n",
       "</div>"
      ],
      "text/plain": [
       "         lemma Party  amount\n",
       "0  Deutschland   afd     248\n",
       "1       Europa   afd      55\n",
       "2           EU   afd      53\n",
       "3          ezb   afd      24\n",
       "4       Türkei   afd      18"
      ]
     },
     "execution_count": 15,
     "metadata": {},
     "output_type": "execute_result"
    }
   ],
   "source": [
    "# Concatenate to one dataframe\n",
    "concatenated_df = pd.concat(slope_counts_dict_cmmn, axis=1)\n",
    "\n",
    "# Reset the index and create new columns\n",
    "temp_df = concatenated_df.reset_index()\n",
    "slope_df = temp_df.melt(id_vars=['index'], value_vars=temp_df.columns[1:], var_name='column name', value_name='count')\n",
    "\n",
    "# Rename columns\n",
    "slope_df.columns = ['lemma', 'Party', 'amount']\n",
    "\n",
    "slope_df.head()"
   ]
  },
  {
   "cell_type": "code",
   "execution_count": 18,
   "metadata": {},
   "outputs": [
    {
     "data": {
      "application/vnd.plotly.v1+json": {
       "config": {
        "plotlyServerURL": "https://plot.ly"
       },
       "data": [
        {
         "hovertemplate": "lemma=Deutschland<br>Party=%{x}<br>amount=%{y}<extra></extra>",
         "legendgroup": "Deutschland",
         "line": {
          "color": "#636efa",
          "dash": "solid"
         },
         "marker": {
          "symbol": "circle"
         },
         "mode": "lines",
         "name": "Deutschland",
         "orientation": "v",
         "showlegend": true,
         "type": "scatter",
         "x": [
          "afd",
          "cdu",
          "fdp",
          "gruene",
          "linke",
          "spd"
         ],
         "xaxis": "x",
         "y": [
          248,
          552,
          444,
          475,
          255,
          313
         ],
         "yaxis": "y"
        },
        {
         "hovertemplate": "lemma=Europa<br>Party=%{x}<br>amount=%{y}<extra></extra>",
         "legendgroup": "Europa",
         "line": {
          "color": "#EF553B",
          "dash": "solid"
         },
         "marker": {
          "symbol": "circle"
         },
         "mode": "lines",
         "name": "Europa",
         "orientation": "v",
         "showlegend": true,
         "type": "scatter",
         "x": [
          "afd",
          "cdu",
          "fdp",
          "gruene",
          "linke",
          "spd"
         ],
         "xaxis": "x",
         "y": [
          55,
          268,
          143,
          273,
          135,
          225
         ],
         "yaxis": "y"
        },
        {
         "hovertemplate": "lemma=EU<br>Party=%{x}<br>amount=%{y}<extra></extra>",
         "legendgroup": "EU",
         "line": {
          "color": "#00cc96",
          "dash": "solid"
         },
         "marker": {
          "symbol": "circle"
         },
         "mode": "lines",
         "name": "EU",
         "orientation": "v",
         "showlegend": true,
         "type": "scatter",
         "x": [
          "afd",
          "cdu",
          "fdp",
          "gruene",
          "linke",
          "spd"
         ],
         "xaxis": "x",
         "y": [
          53,
          63,
          124,
          217,
          135,
          91
         ],
         "yaxis": "y"
        },
        {
         "hovertemplate": "lemma=ezb<br>Party=%{x}<br>amount=%{y}<extra></extra>",
         "legendgroup": "ezb",
         "line": {
          "color": "#ab63fa",
          "dash": "solid"
         },
         "marker": {
          "symbol": "circle"
         },
         "mode": "lines",
         "name": "ezb",
         "orientation": "v",
         "showlegend": true,
         "type": "scatter",
         "x": [
          "afd",
          "cdu",
          "fdp",
          "gruene",
          "linke",
          "spd"
         ],
         "xaxis": "x",
         "y": [
          24,
          2,
          15,
          7,
          16,
          5
         ],
         "yaxis": "y"
        },
        {
         "hovertemplate": "lemma=Türkei<br>Party=%{x}<br>amount=%{y}<extra></extra>",
         "legendgroup": "Türkei",
         "line": {
          "color": "#FFA15A",
          "dash": "solid"
         },
         "marker": {
          "symbol": "circle"
         },
         "mode": "lines",
         "name": "Türkei",
         "orientation": "v",
         "showlegend": true,
         "type": "scatter",
         "x": [
          "afd",
          "cdu",
          "fdp",
          "gruene",
          "linke",
          "spd"
         ],
         "xaxis": "x",
         "y": [
          18,
          21,
          31,
          30,
          13,
          15
         ],
         "yaxis": "y"
        },
        {
         "hovertemplate": "lemma=USA<br>Party=%{x}<br>amount=%{y}<extra></extra>",
         "legendgroup": "USA",
         "line": {
          "color": "#19d3f3",
          "dash": "solid"
         },
         "marker": {
          "symbol": "circle"
         },
         "mode": "lines",
         "name": "USA",
         "orientation": "v",
         "showlegend": true,
         "type": "scatter",
         "x": [
          "afd",
          "cdu",
          "fdp",
          "gruene",
          "linke",
          "spd"
         ],
         "xaxis": "x",
         "y": [
          10,
          18,
          24,
          25,
          30,
          10
         ],
         "yaxis": "y"
        },
        {
         "hovertemplate": "lemma=Nato<br>Party=%{x}<br>amount=%{y}<extra></extra>",
         "legendgroup": "Nato",
         "line": {
          "color": "#FF6692",
          "dash": "solid"
         },
         "marker": {
          "symbol": "circle"
         },
         "mode": "lines",
         "name": "Nato",
         "orientation": "v",
         "showlegend": true,
         "type": "scatter",
         "x": [
          "afd",
          "cdu",
          "fdp",
          "gruene",
          "linke",
          "spd"
         ],
         "xaxis": "x",
         "y": [
          9,
          25,
          25,
          15,
          29,
          8
         ],
         "yaxis": "y"
        },
        {
         "hovertemplate": "lemma=China<br>Party=%{x}<br>amount=%{y}<extra></extra>",
         "legendgroup": "China",
         "line": {
          "color": "#B6E880",
          "dash": "solid"
         },
         "marker": {
          "symbol": "circle"
         },
         "mode": "lines",
         "name": "China",
         "orientation": "v",
         "showlegend": true,
         "type": "scatter",
         "x": [
          "afd",
          "cdu",
          "fdp",
          "gruene",
          "linke",
          "spd"
         ],
         "xaxis": "x",
         "y": [
          7,
          14,
          28,
          18,
          5,
          8
         ],
         "yaxis": "y"
        },
        {
         "hovertemplate": "lemma=Berlin<br>Party=%{x}<br>amount=%{y}<extra></extra>",
         "legendgroup": "Berlin",
         "line": {
          "color": "#FF97FF",
          "dash": "solid"
         },
         "marker": {
          "symbol": "circle"
         },
         "mode": "lines",
         "name": "Berlin",
         "orientation": "v",
         "showlegend": true,
         "type": "scatter",
         "x": [
          "afd",
          "cdu",
          "fdp",
          "gruene",
          "linke",
          "spd"
         ],
         "xaxis": "x",
         "y": [
          5,
          8,
          10,
          17,
          17,
          2
         ],
         "yaxis": "y"
        },
        {
         "hovertemplate": "lemma=Großbritannien<br>Party=%{x}<br>amount=%{y}<extra></extra>",
         "legendgroup": "Großbritannien",
         "line": {
          "color": "#FECB52",
          "dash": "solid"
         },
         "marker": {
          "symbol": "circle"
         },
         "mode": "lines",
         "name": "Großbritannien",
         "orientation": "v",
         "showlegend": true,
         "type": "scatter",
         "x": [
          "afd",
          "cdu",
          "fdp",
          "gruene",
          "linke",
          "spd"
         ],
         "xaxis": "x",
         "y": [
          4,
          5,
          7,
          9,
          4,
          4
         ],
         "yaxis": "y"
        },
        {
         "hovertemplate": "lemma=Kitas<br>Party=%{x}<br>amount=%{y}<extra></extra>",
         "legendgroup": "Kitas",
         "line": {
          "color": "#636efa",
          "dash": "solid"
         },
         "marker": {
          "symbol": "circle"
         },
         "mode": "lines",
         "name": "Kitas",
         "orientation": "v",
         "showlegend": true,
         "type": "scatter",
         "x": [
          "afd",
          "cdu",
          "fdp",
          "gruene",
          "linke",
          "spd"
         ],
         "xaxis": "x",
         "y": [
          4,
          3,
          3,
          24,
          13,
          19
         ],
         "yaxis": "y"
        },
        {
         "hovertemplate": "lemma=iv<br>Party=%{x}<br>amount=%{y}<extra></extra>",
         "legendgroup": "iv",
         "line": {
          "color": "#EF553B",
          "dash": "solid"
         },
         "marker": {
          "symbol": "circle"
         },
         "mode": "lines",
         "name": "iv",
         "orientation": "v",
         "showlegend": true,
         "type": "scatter",
         "x": [
          "afd",
          "cdu",
          "fdp",
          "gruene",
          "linke",
          "spd"
         ],
         "xaxis": "x",
         "y": [
          2,
          2,
          5,
          3,
          27,
          3
         ],
         "yaxis": "y"
        }
       ],
       "layout": {
        "legend": {
         "title": {
          "text": "lemma"
         },
         "tracegroupgap": 0
        },
        "margin": {
         "t": 60
        },
        "template": {
         "data": {
          "bar": [
           {
            "error_x": {
             "color": "#2a3f5f"
            },
            "error_y": {
             "color": "#2a3f5f"
            },
            "marker": {
             "line": {
              "color": "#E5ECF6",
              "width": 0.5
             },
             "pattern": {
              "fillmode": "overlay",
              "size": 10,
              "solidity": 0.2
             }
            },
            "type": "bar"
           }
          ],
          "barpolar": [
           {
            "marker": {
             "line": {
              "color": "#E5ECF6",
              "width": 0.5
             },
             "pattern": {
              "fillmode": "overlay",
              "size": 10,
              "solidity": 0.2
             }
            },
            "type": "barpolar"
           }
          ],
          "carpet": [
           {
            "aaxis": {
             "endlinecolor": "#2a3f5f",
             "gridcolor": "white",
             "linecolor": "white",
             "minorgridcolor": "white",
             "startlinecolor": "#2a3f5f"
            },
            "baxis": {
             "endlinecolor": "#2a3f5f",
             "gridcolor": "white",
             "linecolor": "white",
             "minorgridcolor": "white",
             "startlinecolor": "#2a3f5f"
            },
            "type": "carpet"
           }
          ],
          "choropleth": [
           {
            "colorbar": {
             "outlinewidth": 0,
             "ticks": ""
            },
            "type": "choropleth"
           }
          ],
          "contour": [
           {
            "colorbar": {
             "outlinewidth": 0,
             "ticks": ""
            },
            "colorscale": [
             [
              0,
              "#0d0887"
             ],
             [
              0.1111111111111111,
              "#46039f"
             ],
             [
              0.2222222222222222,
              "#7201a8"
             ],
             [
              0.3333333333333333,
              "#9c179e"
             ],
             [
              0.4444444444444444,
              "#bd3786"
             ],
             [
              0.5555555555555556,
              "#d8576b"
             ],
             [
              0.6666666666666666,
              "#ed7953"
             ],
             [
              0.7777777777777778,
              "#fb9f3a"
             ],
             [
              0.8888888888888888,
              "#fdca26"
             ],
             [
              1,
              "#f0f921"
             ]
            ],
            "type": "contour"
           }
          ],
          "contourcarpet": [
           {
            "colorbar": {
             "outlinewidth": 0,
             "ticks": ""
            },
            "type": "contourcarpet"
           }
          ],
          "heatmap": [
           {
            "colorbar": {
             "outlinewidth": 0,
             "ticks": ""
            },
            "colorscale": [
             [
              0,
              "#0d0887"
             ],
             [
              0.1111111111111111,
              "#46039f"
             ],
             [
              0.2222222222222222,
              "#7201a8"
             ],
             [
              0.3333333333333333,
              "#9c179e"
             ],
             [
              0.4444444444444444,
              "#bd3786"
             ],
             [
              0.5555555555555556,
              "#d8576b"
             ],
             [
              0.6666666666666666,
              "#ed7953"
             ],
             [
              0.7777777777777778,
              "#fb9f3a"
             ],
             [
              0.8888888888888888,
              "#fdca26"
             ],
             [
              1,
              "#f0f921"
             ]
            ],
            "type": "heatmap"
           }
          ],
          "heatmapgl": [
           {
            "colorbar": {
             "outlinewidth": 0,
             "ticks": ""
            },
            "colorscale": [
             [
              0,
              "#0d0887"
             ],
             [
              0.1111111111111111,
              "#46039f"
             ],
             [
              0.2222222222222222,
              "#7201a8"
             ],
             [
              0.3333333333333333,
              "#9c179e"
             ],
             [
              0.4444444444444444,
              "#bd3786"
             ],
             [
              0.5555555555555556,
              "#d8576b"
             ],
             [
              0.6666666666666666,
              "#ed7953"
             ],
             [
              0.7777777777777778,
              "#fb9f3a"
             ],
             [
              0.8888888888888888,
              "#fdca26"
             ],
             [
              1,
              "#f0f921"
             ]
            ],
            "type": "heatmapgl"
           }
          ],
          "histogram": [
           {
            "marker": {
             "pattern": {
              "fillmode": "overlay",
              "size": 10,
              "solidity": 0.2
             }
            },
            "type": "histogram"
           }
          ],
          "histogram2d": [
           {
            "colorbar": {
             "outlinewidth": 0,
             "ticks": ""
            },
            "colorscale": [
             [
              0,
              "#0d0887"
             ],
             [
              0.1111111111111111,
              "#46039f"
             ],
             [
              0.2222222222222222,
              "#7201a8"
             ],
             [
              0.3333333333333333,
              "#9c179e"
             ],
             [
              0.4444444444444444,
              "#bd3786"
             ],
             [
              0.5555555555555556,
              "#d8576b"
             ],
             [
              0.6666666666666666,
              "#ed7953"
             ],
             [
              0.7777777777777778,
              "#fb9f3a"
             ],
             [
              0.8888888888888888,
              "#fdca26"
             ],
             [
              1,
              "#f0f921"
             ]
            ],
            "type": "histogram2d"
           }
          ],
          "histogram2dcontour": [
           {
            "colorbar": {
             "outlinewidth": 0,
             "ticks": ""
            },
            "colorscale": [
             [
              0,
              "#0d0887"
             ],
             [
              0.1111111111111111,
              "#46039f"
             ],
             [
              0.2222222222222222,
              "#7201a8"
             ],
             [
              0.3333333333333333,
              "#9c179e"
             ],
             [
              0.4444444444444444,
              "#bd3786"
             ],
             [
              0.5555555555555556,
              "#d8576b"
             ],
             [
              0.6666666666666666,
              "#ed7953"
             ],
             [
              0.7777777777777778,
              "#fb9f3a"
             ],
             [
              0.8888888888888888,
              "#fdca26"
             ],
             [
              1,
              "#f0f921"
             ]
            ],
            "type": "histogram2dcontour"
           }
          ],
          "mesh3d": [
           {
            "colorbar": {
             "outlinewidth": 0,
             "ticks": ""
            },
            "type": "mesh3d"
           }
          ],
          "parcoords": [
           {
            "line": {
             "colorbar": {
              "outlinewidth": 0,
              "ticks": ""
             }
            },
            "type": "parcoords"
           }
          ],
          "pie": [
           {
            "automargin": true,
            "type": "pie"
           }
          ],
          "scatter": [
           {
            "fillpattern": {
             "fillmode": "overlay",
             "size": 10,
             "solidity": 0.2
            },
            "type": "scatter"
           }
          ],
          "scatter3d": [
           {
            "line": {
             "colorbar": {
              "outlinewidth": 0,
              "ticks": ""
             }
            },
            "marker": {
             "colorbar": {
              "outlinewidth": 0,
              "ticks": ""
             }
            },
            "type": "scatter3d"
           }
          ],
          "scattercarpet": [
           {
            "marker": {
             "colorbar": {
              "outlinewidth": 0,
              "ticks": ""
             }
            },
            "type": "scattercarpet"
           }
          ],
          "scattergeo": [
           {
            "marker": {
             "colorbar": {
              "outlinewidth": 0,
              "ticks": ""
             }
            },
            "type": "scattergeo"
           }
          ],
          "scattergl": [
           {
            "marker": {
             "colorbar": {
              "outlinewidth": 0,
              "ticks": ""
             }
            },
            "type": "scattergl"
           }
          ],
          "scattermapbox": [
           {
            "marker": {
             "colorbar": {
              "outlinewidth": 0,
              "ticks": ""
             }
            },
            "type": "scattermapbox"
           }
          ],
          "scatterpolar": [
           {
            "marker": {
             "colorbar": {
              "outlinewidth": 0,
              "ticks": ""
             }
            },
            "type": "scatterpolar"
           }
          ],
          "scatterpolargl": [
           {
            "marker": {
             "colorbar": {
              "outlinewidth": 0,
              "ticks": ""
             }
            },
            "type": "scatterpolargl"
           }
          ],
          "scatterternary": [
           {
            "marker": {
             "colorbar": {
              "outlinewidth": 0,
              "ticks": ""
             }
            },
            "type": "scatterternary"
           }
          ],
          "surface": [
           {
            "colorbar": {
             "outlinewidth": 0,
             "ticks": ""
            },
            "colorscale": [
             [
              0,
              "#0d0887"
             ],
             [
              0.1111111111111111,
              "#46039f"
             ],
             [
              0.2222222222222222,
              "#7201a8"
             ],
             [
              0.3333333333333333,
              "#9c179e"
             ],
             [
              0.4444444444444444,
              "#bd3786"
             ],
             [
              0.5555555555555556,
              "#d8576b"
             ],
             [
              0.6666666666666666,
              "#ed7953"
             ],
             [
              0.7777777777777778,
              "#fb9f3a"
             ],
             [
              0.8888888888888888,
              "#fdca26"
             ],
             [
              1,
              "#f0f921"
             ]
            ],
            "type": "surface"
           }
          ],
          "table": [
           {
            "cells": {
             "fill": {
              "color": "#EBF0F8"
             },
             "line": {
              "color": "white"
             }
            },
            "header": {
             "fill": {
              "color": "#C8D4E3"
             },
             "line": {
              "color": "white"
             }
            },
            "type": "table"
           }
          ]
         },
         "layout": {
          "annotationdefaults": {
           "arrowcolor": "#2a3f5f",
           "arrowhead": 0,
           "arrowwidth": 1
          },
          "autotypenumbers": "strict",
          "coloraxis": {
           "colorbar": {
            "outlinewidth": 0,
            "ticks": ""
           }
          },
          "colorscale": {
           "diverging": [
            [
             0,
             "#8e0152"
            ],
            [
             0.1,
             "#c51b7d"
            ],
            [
             0.2,
             "#de77ae"
            ],
            [
             0.3,
             "#f1b6da"
            ],
            [
             0.4,
             "#fde0ef"
            ],
            [
             0.5,
             "#f7f7f7"
            ],
            [
             0.6,
             "#e6f5d0"
            ],
            [
             0.7,
             "#b8e186"
            ],
            [
             0.8,
             "#7fbc41"
            ],
            [
             0.9,
             "#4d9221"
            ],
            [
             1,
             "#276419"
            ]
           ],
           "sequential": [
            [
             0,
             "#0d0887"
            ],
            [
             0.1111111111111111,
             "#46039f"
            ],
            [
             0.2222222222222222,
             "#7201a8"
            ],
            [
             0.3333333333333333,
             "#9c179e"
            ],
            [
             0.4444444444444444,
             "#bd3786"
            ],
            [
             0.5555555555555556,
             "#d8576b"
            ],
            [
             0.6666666666666666,
             "#ed7953"
            ],
            [
             0.7777777777777778,
             "#fb9f3a"
            ],
            [
             0.8888888888888888,
             "#fdca26"
            ],
            [
             1,
             "#f0f921"
            ]
           ],
           "sequentialminus": [
            [
             0,
             "#0d0887"
            ],
            [
             0.1111111111111111,
             "#46039f"
            ],
            [
             0.2222222222222222,
             "#7201a8"
            ],
            [
             0.3333333333333333,
             "#9c179e"
            ],
            [
             0.4444444444444444,
             "#bd3786"
            ],
            [
             0.5555555555555556,
             "#d8576b"
            ],
            [
             0.6666666666666666,
             "#ed7953"
            ],
            [
             0.7777777777777778,
             "#fb9f3a"
            ],
            [
             0.8888888888888888,
             "#fdca26"
            ],
            [
             1,
             "#f0f921"
            ]
           ]
          },
          "colorway": [
           "#636efa",
           "#EF553B",
           "#00cc96",
           "#ab63fa",
           "#FFA15A",
           "#19d3f3",
           "#FF6692",
           "#B6E880",
           "#FF97FF",
           "#FECB52"
          ],
          "font": {
           "color": "#2a3f5f"
          },
          "geo": {
           "bgcolor": "white",
           "lakecolor": "white",
           "landcolor": "#E5ECF6",
           "showlakes": true,
           "showland": true,
           "subunitcolor": "white"
          },
          "hoverlabel": {
           "align": "left"
          },
          "hovermode": "closest",
          "mapbox": {
           "style": "light"
          },
          "paper_bgcolor": "white",
          "plot_bgcolor": "#E5ECF6",
          "polar": {
           "angularaxis": {
            "gridcolor": "white",
            "linecolor": "white",
            "ticks": ""
           },
           "bgcolor": "#E5ECF6",
           "radialaxis": {
            "gridcolor": "white",
            "linecolor": "white",
            "ticks": ""
           }
          },
          "scene": {
           "xaxis": {
            "backgroundcolor": "#E5ECF6",
            "gridcolor": "white",
            "gridwidth": 2,
            "linecolor": "white",
            "showbackground": true,
            "ticks": "",
            "zerolinecolor": "white"
           },
           "yaxis": {
            "backgroundcolor": "#E5ECF6",
            "gridcolor": "white",
            "gridwidth": 2,
            "linecolor": "white",
            "showbackground": true,
            "ticks": "",
            "zerolinecolor": "white"
           },
           "zaxis": {
            "backgroundcolor": "#E5ECF6",
            "gridcolor": "white",
            "gridwidth": 2,
            "linecolor": "white",
            "showbackground": true,
            "ticks": "",
            "zerolinecolor": "white"
           }
          },
          "shapedefaults": {
           "line": {
            "color": "#2a3f5f"
           }
          },
          "ternary": {
           "aaxis": {
            "gridcolor": "white",
            "linecolor": "white",
            "ticks": ""
           },
           "baxis": {
            "gridcolor": "white",
            "linecolor": "white",
            "ticks": ""
           },
           "bgcolor": "#E5ECF6",
           "caxis": {
            "gridcolor": "white",
            "linecolor": "white",
            "ticks": ""
           }
          },
          "title": {
           "x": 0.05
          },
          "xaxis": {
           "automargin": true,
           "gridcolor": "white",
           "linecolor": "white",
           "ticks": "",
           "title": {
            "standoff": 15
           },
           "zerolinecolor": "white",
           "zerolinewidth": 2
          },
          "yaxis": {
           "automargin": true,
           "gridcolor": "white",
           "linecolor": "white",
           "ticks": "",
           "title": {
            "standoff": 15
           },
           "zerolinecolor": "white",
           "zerolinewidth": 2
          }
         }
        },
        "xaxis": {
         "anchor": "y",
         "domain": [
          0,
          1
         ],
         "title": {
          "text": "Party"
         }
        },
        "yaxis": {
         "anchor": "x",
         "domain": [
          0,
          1
         ],
         "title": {
          "text": "amount"
         }
        }
       }
      },
      "text/html": [
       "<div>                            <div id=\"3ca56d3a-7f74-4cc2-b58f-c150bdf643ac\" class=\"plotly-graph-div\" style=\"height:525px; width:100%;\"></div>            <script type=\"text/javascript\">                require([\"plotly\"], function(Plotly) {                    window.PLOTLYENV=window.PLOTLYENV || {};                                    if (document.getElementById(\"3ca56d3a-7f74-4cc2-b58f-c150bdf643ac\")) {                    Plotly.newPlot(                        \"3ca56d3a-7f74-4cc2-b58f-c150bdf643ac\",                        [{\"hovertemplate\":\"lemma=Deutschland\\u003cbr\\u003eParty=%{x}\\u003cbr\\u003eamount=%{y}\\u003cextra\\u003e\\u003c\\u002fextra\\u003e\",\"legendgroup\":\"Deutschland\",\"line\":{\"color\":\"#636efa\",\"dash\":\"solid\"},\"marker\":{\"symbol\":\"circle\"},\"mode\":\"lines\",\"name\":\"Deutschland\",\"orientation\":\"v\",\"showlegend\":true,\"x\":[\"afd\",\"cdu\",\"fdp\",\"gruene\",\"linke\",\"spd\"],\"xaxis\":\"x\",\"y\":[248,552,444,475,255,313],\"yaxis\":\"y\",\"type\":\"scatter\"},{\"hovertemplate\":\"lemma=Europa\\u003cbr\\u003eParty=%{x}\\u003cbr\\u003eamount=%{y}\\u003cextra\\u003e\\u003c\\u002fextra\\u003e\",\"legendgroup\":\"Europa\",\"line\":{\"color\":\"#EF553B\",\"dash\":\"solid\"},\"marker\":{\"symbol\":\"circle\"},\"mode\":\"lines\",\"name\":\"Europa\",\"orientation\":\"v\",\"showlegend\":true,\"x\":[\"afd\",\"cdu\",\"fdp\",\"gruene\",\"linke\",\"spd\"],\"xaxis\":\"x\",\"y\":[55,268,143,273,135,225],\"yaxis\":\"y\",\"type\":\"scatter\"},{\"hovertemplate\":\"lemma=EU\\u003cbr\\u003eParty=%{x}\\u003cbr\\u003eamount=%{y}\\u003cextra\\u003e\\u003c\\u002fextra\\u003e\",\"legendgroup\":\"EU\",\"line\":{\"color\":\"#00cc96\",\"dash\":\"solid\"},\"marker\":{\"symbol\":\"circle\"},\"mode\":\"lines\",\"name\":\"EU\",\"orientation\":\"v\",\"showlegend\":true,\"x\":[\"afd\",\"cdu\",\"fdp\",\"gruene\",\"linke\",\"spd\"],\"xaxis\":\"x\",\"y\":[53,63,124,217,135,91],\"yaxis\":\"y\",\"type\":\"scatter\"},{\"hovertemplate\":\"lemma=ezb\\u003cbr\\u003eParty=%{x}\\u003cbr\\u003eamount=%{y}\\u003cextra\\u003e\\u003c\\u002fextra\\u003e\",\"legendgroup\":\"ezb\",\"line\":{\"color\":\"#ab63fa\",\"dash\":\"solid\"},\"marker\":{\"symbol\":\"circle\"},\"mode\":\"lines\",\"name\":\"ezb\",\"orientation\":\"v\",\"showlegend\":true,\"x\":[\"afd\",\"cdu\",\"fdp\",\"gruene\",\"linke\",\"spd\"],\"xaxis\":\"x\",\"y\":[24,2,15,7,16,5],\"yaxis\":\"y\",\"type\":\"scatter\"},{\"hovertemplate\":\"lemma=T\\u00fcrkei\\u003cbr\\u003eParty=%{x}\\u003cbr\\u003eamount=%{y}\\u003cextra\\u003e\\u003c\\u002fextra\\u003e\",\"legendgroup\":\"T\\u00fcrkei\",\"line\":{\"color\":\"#FFA15A\",\"dash\":\"solid\"},\"marker\":{\"symbol\":\"circle\"},\"mode\":\"lines\",\"name\":\"T\\u00fcrkei\",\"orientation\":\"v\",\"showlegend\":true,\"x\":[\"afd\",\"cdu\",\"fdp\",\"gruene\",\"linke\",\"spd\"],\"xaxis\":\"x\",\"y\":[18,21,31,30,13,15],\"yaxis\":\"y\",\"type\":\"scatter\"},{\"hovertemplate\":\"lemma=USA\\u003cbr\\u003eParty=%{x}\\u003cbr\\u003eamount=%{y}\\u003cextra\\u003e\\u003c\\u002fextra\\u003e\",\"legendgroup\":\"USA\",\"line\":{\"color\":\"#19d3f3\",\"dash\":\"solid\"},\"marker\":{\"symbol\":\"circle\"},\"mode\":\"lines\",\"name\":\"USA\",\"orientation\":\"v\",\"showlegend\":true,\"x\":[\"afd\",\"cdu\",\"fdp\",\"gruene\",\"linke\",\"spd\"],\"xaxis\":\"x\",\"y\":[10,18,24,25,30,10],\"yaxis\":\"y\",\"type\":\"scatter\"},{\"hovertemplate\":\"lemma=Nato\\u003cbr\\u003eParty=%{x}\\u003cbr\\u003eamount=%{y}\\u003cextra\\u003e\\u003c\\u002fextra\\u003e\",\"legendgroup\":\"Nato\",\"line\":{\"color\":\"#FF6692\",\"dash\":\"solid\"},\"marker\":{\"symbol\":\"circle\"},\"mode\":\"lines\",\"name\":\"Nato\",\"orientation\":\"v\",\"showlegend\":true,\"x\":[\"afd\",\"cdu\",\"fdp\",\"gruene\",\"linke\",\"spd\"],\"xaxis\":\"x\",\"y\":[9,25,25,15,29,8],\"yaxis\":\"y\",\"type\":\"scatter\"},{\"hovertemplate\":\"lemma=China\\u003cbr\\u003eParty=%{x}\\u003cbr\\u003eamount=%{y}\\u003cextra\\u003e\\u003c\\u002fextra\\u003e\",\"legendgroup\":\"China\",\"line\":{\"color\":\"#B6E880\",\"dash\":\"solid\"},\"marker\":{\"symbol\":\"circle\"},\"mode\":\"lines\",\"name\":\"China\",\"orientation\":\"v\",\"showlegend\":true,\"x\":[\"afd\",\"cdu\",\"fdp\",\"gruene\",\"linke\",\"spd\"],\"xaxis\":\"x\",\"y\":[7,14,28,18,5,8],\"yaxis\":\"y\",\"type\":\"scatter\"},{\"hovertemplate\":\"lemma=Berlin\\u003cbr\\u003eParty=%{x}\\u003cbr\\u003eamount=%{y}\\u003cextra\\u003e\\u003c\\u002fextra\\u003e\",\"legendgroup\":\"Berlin\",\"line\":{\"color\":\"#FF97FF\",\"dash\":\"solid\"},\"marker\":{\"symbol\":\"circle\"},\"mode\":\"lines\",\"name\":\"Berlin\",\"orientation\":\"v\",\"showlegend\":true,\"x\":[\"afd\",\"cdu\",\"fdp\",\"gruene\",\"linke\",\"spd\"],\"xaxis\":\"x\",\"y\":[5,8,10,17,17,2],\"yaxis\":\"y\",\"type\":\"scatter\"},{\"hovertemplate\":\"lemma=Gro\\u00dfbritannien\\u003cbr\\u003eParty=%{x}\\u003cbr\\u003eamount=%{y}\\u003cextra\\u003e\\u003c\\u002fextra\\u003e\",\"legendgroup\":\"Gro\\u00dfbritannien\",\"line\":{\"color\":\"#FECB52\",\"dash\":\"solid\"},\"marker\":{\"symbol\":\"circle\"},\"mode\":\"lines\",\"name\":\"Gro\\u00dfbritannien\",\"orientation\":\"v\",\"showlegend\":true,\"x\":[\"afd\",\"cdu\",\"fdp\",\"gruene\",\"linke\",\"spd\"],\"xaxis\":\"x\",\"y\":[4,5,7,9,4,4],\"yaxis\":\"y\",\"type\":\"scatter\"},{\"hovertemplate\":\"lemma=Kitas\\u003cbr\\u003eParty=%{x}\\u003cbr\\u003eamount=%{y}\\u003cextra\\u003e\\u003c\\u002fextra\\u003e\",\"legendgroup\":\"Kitas\",\"line\":{\"color\":\"#636efa\",\"dash\":\"solid\"},\"marker\":{\"symbol\":\"circle\"},\"mode\":\"lines\",\"name\":\"Kitas\",\"orientation\":\"v\",\"showlegend\":true,\"x\":[\"afd\",\"cdu\",\"fdp\",\"gruene\",\"linke\",\"spd\"],\"xaxis\":\"x\",\"y\":[4,3,3,24,13,19],\"yaxis\":\"y\",\"type\":\"scatter\"},{\"hovertemplate\":\"lemma=iv\\u003cbr\\u003eParty=%{x}\\u003cbr\\u003eamount=%{y}\\u003cextra\\u003e\\u003c\\u002fextra\\u003e\",\"legendgroup\":\"iv\",\"line\":{\"color\":\"#EF553B\",\"dash\":\"solid\"},\"marker\":{\"symbol\":\"circle\"},\"mode\":\"lines\",\"name\":\"iv\",\"orientation\":\"v\",\"showlegend\":true,\"x\":[\"afd\",\"cdu\",\"fdp\",\"gruene\",\"linke\",\"spd\"],\"xaxis\":\"x\",\"y\":[2,2,5,3,27,3],\"yaxis\":\"y\",\"type\":\"scatter\"}],                        {\"template\":{\"data\":{\"histogram2dcontour\":[{\"type\":\"histogram2dcontour\",\"colorbar\":{\"outlinewidth\":0,\"ticks\":\"\"},\"colorscale\":[[0.0,\"#0d0887\"],[0.1111111111111111,\"#46039f\"],[0.2222222222222222,\"#7201a8\"],[0.3333333333333333,\"#9c179e\"],[0.4444444444444444,\"#bd3786\"],[0.5555555555555556,\"#d8576b\"],[0.6666666666666666,\"#ed7953\"],[0.7777777777777778,\"#fb9f3a\"],[0.8888888888888888,\"#fdca26\"],[1.0,\"#f0f921\"]]}],\"choropleth\":[{\"type\":\"choropleth\",\"colorbar\":{\"outlinewidth\":0,\"ticks\":\"\"}}],\"histogram2d\":[{\"type\":\"histogram2d\",\"colorbar\":{\"outlinewidth\":0,\"ticks\":\"\"},\"colorscale\":[[0.0,\"#0d0887\"],[0.1111111111111111,\"#46039f\"],[0.2222222222222222,\"#7201a8\"],[0.3333333333333333,\"#9c179e\"],[0.4444444444444444,\"#bd3786\"],[0.5555555555555556,\"#d8576b\"],[0.6666666666666666,\"#ed7953\"],[0.7777777777777778,\"#fb9f3a\"],[0.8888888888888888,\"#fdca26\"],[1.0,\"#f0f921\"]]}],\"heatmap\":[{\"type\":\"heatmap\",\"colorbar\":{\"outlinewidth\":0,\"ticks\":\"\"},\"colorscale\":[[0.0,\"#0d0887\"],[0.1111111111111111,\"#46039f\"],[0.2222222222222222,\"#7201a8\"],[0.3333333333333333,\"#9c179e\"],[0.4444444444444444,\"#bd3786\"],[0.5555555555555556,\"#d8576b\"],[0.6666666666666666,\"#ed7953\"],[0.7777777777777778,\"#fb9f3a\"],[0.8888888888888888,\"#fdca26\"],[1.0,\"#f0f921\"]]}],\"heatmapgl\":[{\"type\":\"heatmapgl\",\"colorbar\":{\"outlinewidth\":0,\"ticks\":\"\"},\"colorscale\":[[0.0,\"#0d0887\"],[0.1111111111111111,\"#46039f\"],[0.2222222222222222,\"#7201a8\"],[0.3333333333333333,\"#9c179e\"],[0.4444444444444444,\"#bd3786\"],[0.5555555555555556,\"#d8576b\"],[0.6666666666666666,\"#ed7953\"],[0.7777777777777778,\"#fb9f3a\"],[0.8888888888888888,\"#fdca26\"],[1.0,\"#f0f921\"]]}],\"contourcarpet\":[{\"type\":\"contourcarpet\",\"colorbar\":{\"outlinewidth\":0,\"ticks\":\"\"}}],\"contour\":[{\"type\":\"contour\",\"colorbar\":{\"outlinewidth\":0,\"ticks\":\"\"},\"colorscale\":[[0.0,\"#0d0887\"],[0.1111111111111111,\"#46039f\"],[0.2222222222222222,\"#7201a8\"],[0.3333333333333333,\"#9c179e\"],[0.4444444444444444,\"#bd3786\"],[0.5555555555555556,\"#d8576b\"],[0.6666666666666666,\"#ed7953\"],[0.7777777777777778,\"#fb9f3a\"],[0.8888888888888888,\"#fdca26\"],[1.0,\"#f0f921\"]]}],\"surface\":[{\"type\":\"surface\",\"colorbar\":{\"outlinewidth\":0,\"ticks\":\"\"},\"colorscale\":[[0.0,\"#0d0887\"],[0.1111111111111111,\"#46039f\"],[0.2222222222222222,\"#7201a8\"],[0.3333333333333333,\"#9c179e\"],[0.4444444444444444,\"#bd3786\"],[0.5555555555555556,\"#d8576b\"],[0.6666666666666666,\"#ed7953\"],[0.7777777777777778,\"#fb9f3a\"],[0.8888888888888888,\"#fdca26\"],[1.0,\"#f0f921\"]]}],\"mesh3d\":[{\"type\":\"mesh3d\",\"colorbar\":{\"outlinewidth\":0,\"ticks\":\"\"}}],\"scatter\":[{\"fillpattern\":{\"fillmode\":\"overlay\",\"size\":10,\"solidity\":0.2},\"type\":\"scatter\"}],\"parcoords\":[{\"type\":\"parcoords\",\"line\":{\"colorbar\":{\"outlinewidth\":0,\"ticks\":\"\"}}}],\"scatterpolargl\":[{\"type\":\"scatterpolargl\",\"marker\":{\"colorbar\":{\"outlinewidth\":0,\"ticks\":\"\"}}}],\"bar\":[{\"error_x\":{\"color\":\"#2a3f5f\"},\"error_y\":{\"color\":\"#2a3f5f\"},\"marker\":{\"line\":{\"color\":\"#E5ECF6\",\"width\":0.5},\"pattern\":{\"fillmode\":\"overlay\",\"size\":10,\"solidity\":0.2}},\"type\":\"bar\"}],\"scattergeo\":[{\"type\":\"scattergeo\",\"marker\":{\"colorbar\":{\"outlinewidth\":0,\"ticks\":\"\"}}}],\"scatterpolar\":[{\"type\":\"scatterpolar\",\"marker\":{\"colorbar\":{\"outlinewidth\":0,\"ticks\":\"\"}}}],\"histogram\":[{\"marker\":{\"pattern\":{\"fillmode\":\"overlay\",\"size\":10,\"solidity\":0.2}},\"type\":\"histogram\"}],\"scattergl\":[{\"type\":\"scattergl\",\"marker\":{\"colorbar\":{\"outlinewidth\":0,\"ticks\":\"\"}}}],\"scatter3d\":[{\"type\":\"scatter3d\",\"line\":{\"colorbar\":{\"outlinewidth\":0,\"ticks\":\"\"}},\"marker\":{\"colorbar\":{\"outlinewidth\":0,\"ticks\":\"\"}}}],\"scattermapbox\":[{\"type\":\"scattermapbox\",\"marker\":{\"colorbar\":{\"outlinewidth\":0,\"ticks\":\"\"}}}],\"scatterternary\":[{\"type\":\"scatterternary\",\"marker\":{\"colorbar\":{\"outlinewidth\":0,\"ticks\":\"\"}}}],\"scattercarpet\":[{\"type\":\"scattercarpet\",\"marker\":{\"colorbar\":{\"outlinewidth\":0,\"ticks\":\"\"}}}],\"carpet\":[{\"aaxis\":{\"endlinecolor\":\"#2a3f5f\",\"gridcolor\":\"white\",\"linecolor\":\"white\",\"minorgridcolor\":\"white\",\"startlinecolor\":\"#2a3f5f\"},\"baxis\":{\"endlinecolor\":\"#2a3f5f\",\"gridcolor\":\"white\",\"linecolor\":\"white\",\"minorgridcolor\":\"white\",\"startlinecolor\":\"#2a3f5f\"},\"type\":\"carpet\"}],\"table\":[{\"cells\":{\"fill\":{\"color\":\"#EBF0F8\"},\"line\":{\"color\":\"white\"}},\"header\":{\"fill\":{\"color\":\"#C8D4E3\"},\"line\":{\"color\":\"white\"}},\"type\":\"table\"}],\"barpolar\":[{\"marker\":{\"line\":{\"color\":\"#E5ECF6\",\"width\":0.5},\"pattern\":{\"fillmode\":\"overlay\",\"size\":10,\"solidity\":0.2}},\"type\":\"barpolar\"}],\"pie\":[{\"automargin\":true,\"type\":\"pie\"}]},\"layout\":{\"autotypenumbers\":\"strict\",\"colorway\":[\"#636efa\",\"#EF553B\",\"#00cc96\",\"#ab63fa\",\"#FFA15A\",\"#19d3f3\",\"#FF6692\",\"#B6E880\",\"#FF97FF\",\"#FECB52\"],\"font\":{\"color\":\"#2a3f5f\"},\"hovermode\":\"closest\",\"hoverlabel\":{\"align\":\"left\"},\"paper_bgcolor\":\"white\",\"plot_bgcolor\":\"#E5ECF6\",\"polar\":{\"bgcolor\":\"#E5ECF6\",\"angularaxis\":{\"gridcolor\":\"white\",\"linecolor\":\"white\",\"ticks\":\"\"},\"radialaxis\":{\"gridcolor\":\"white\",\"linecolor\":\"white\",\"ticks\":\"\"}},\"ternary\":{\"bgcolor\":\"#E5ECF6\",\"aaxis\":{\"gridcolor\":\"white\",\"linecolor\":\"white\",\"ticks\":\"\"},\"baxis\":{\"gridcolor\":\"white\",\"linecolor\":\"white\",\"ticks\":\"\"},\"caxis\":{\"gridcolor\":\"white\",\"linecolor\":\"white\",\"ticks\":\"\"}},\"coloraxis\":{\"colorbar\":{\"outlinewidth\":0,\"ticks\":\"\"}},\"colorscale\":{\"sequential\":[[0.0,\"#0d0887\"],[0.1111111111111111,\"#46039f\"],[0.2222222222222222,\"#7201a8\"],[0.3333333333333333,\"#9c179e\"],[0.4444444444444444,\"#bd3786\"],[0.5555555555555556,\"#d8576b\"],[0.6666666666666666,\"#ed7953\"],[0.7777777777777778,\"#fb9f3a\"],[0.8888888888888888,\"#fdca26\"],[1.0,\"#f0f921\"]],\"sequentialminus\":[[0.0,\"#0d0887\"],[0.1111111111111111,\"#46039f\"],[0.2222222222222222,\"#7201a8\"],[0.3333333333333333,\"#9c179e\"],[0.4444444444444444,\"#bd3786\"],[0.5555555555555556,\"#d8576b\"],[0.6666666666666666,\"#ed7953\"],[0.7777777777777778,\"#fb9f3a\"],[0.8888888888888888,\"#fdca26\"],[1.0,\"#f0f921\"]],\"diverging\":[[0,\"#8e0152\"],[0.1,\"#c51b7d\"],[0.2,\"#de77ae\"],[0.3,\"#f1b6da\"],[0.4,\"#fde0ef\"],[0.5,\"#f7f7f7\"],[0.6,\"#e6f5d0\"],[0.7,\"#b8e186\"],[0.8,\"#7fbc41\"],[0.9,\"#4d9221\"],[1,\"#276419\"]]},\"xaxis\":{\"gridcolor\":\"white\",\"linecolor\":\"white\",\"ticks\":\"\",\"title\":{\"standoff\":15},\"zerolinecolor\":\"white\",\"automargin\":true,\"zerolinewidth\":2},\"yaxis\":{\"gridcolor\":\"white\",\"linecolor\":\"white\",\"ticks\":\"\",\"title\":{\"standoff\":15},\"zerolinecolor\":\"white\",\"automargin\":true,\"zerolinewidth\":2},\"scene\":{\"xaxis\":{\"backgroundcolor\":\"#E5ECF6\",\"gridcolor\":\"white\",\"linecolor\":\"white\",\"showbackground\":true,\"ticks\":\"\",\"zerolinecolor\":\"white\",\"gridwidth\":2},\"yaxis\":{\"backgroundcolor\":\"#E5ECF6\",\"gridcolor\":\"white\",\"linecolor\":\"white\",\"showbackground\":true,\"ticks\":\"\",\"zerolinecolor\":\"white\",\"gridwidth\":2},\"zaxis\":{\"backgroundcolor\":\"#E5ECF6\",\"gridcolor\":\"white\",\"linecolor\":\"white\",\"showbackground\":true,\"ticks\":\"\",\"zerolinecolor\":\"white\",\"gridwidth\":2}},\"shapedefaults\":{\"line\":{\"color\":\"#2a3f5f\"}},\"annotationdefaults\":{\"arrowcolor\":\"#2a3f5f\",\"arrowhead\":0,\"arrowwidth\":1},\"geo\":{\"bgcolor\":\"white\",\"landcolor\":\"#E5ECF6\",\"subunitcolor\":\"white\",\"showland\":true,\"showlakes\":true,\"lakecolor\":\"white\"},\"title\":{\"x\":0.05},\"mapbox\":{\"style\":\"light\"}}},\"xaxis\":{\"anchor\":\"y\",\"domain\":[0.0,1.0],\"title\":{\"text\":\"Party\"}},\"yaxis\":{\"anchor\":\"x\",\"domain\":[0.0,1.0],\"title\":{\"text\":\"amount\"}},\"legend\":{\"title\":{\"text\":\"lemma\"},\"tracegroupgap\":0},\"margin\":{\"t\":60}},                        {\"responsive\": true}                    ).then(function(){\n",
       "                            \n",
       "var gd = document.getElementById('3ca56d3a-7f74-4cc2-b58f-c150bdf643ac');\n",
       "var x = new MutationObserver(function (mutations, observer) {{\n",
       "        var display = window.getComputedStyle(gd).display;\n",
       "        if (!display || display === 'none') {{\n",
       "            console.log([gd, 'removed!']);\n",
       "            Plotly.purge(gd);\n",
       "            observer.disconnect();\n",
       "        }}\n",
       "}});\n",
       "\n",
       "// Listen for the removal of the full notebook cells\n",
       "var notebookContainer = gd.closest('#notebook-container');\n",
       "if (notebookContainer) {{\n",
       "    x.observe(notebookContainer, {childList: true});\n",
       "}}\n",
       "\n",
       "// Listen for the clearing of the current output cell\n",
       "var outputEl = gd.closest('.output');\n",
       "if (outputEl) {{\n",
       "    x.observe(outputEl, {childList: true});\n",
       "}}\n",
       "\n",
       "                        })                };                });            </script>        </div>"
      ]
     },
     "metadata": {},
     "output_type": "display_data"
    }
   ],
   "source": [
    "# Plot the chart with plotly\n",
    "for lemma in slope_df[\"lemma\"].unique():\n",
    "    temp = slope_df[slope_df['lemma'] == lemma]\n",
    "    fig = px.line(slope_df, x=\"Party\", y=\"amount\", color=\"lemma\" )\n",
    "fig.show()"
   ]
  },
  {
   "cell_type": "code",
   "execution_count": null,
   "metadata": {},
   "outputs": [],
   "source": []
  }
 ],
 "metadata": {
  "kernelspec": {
   "display_name": "text310",
   "language": "python",
   "name": "python3"
  },
  "language_info": {
   "codemirror_mode": {
    "name": "ipython",
    "version": 3
   },
   "file_extension": ".py",
   "mimetype": "text/x-python",
   "name": "python",
   "nbconvert_exporter": "python",
   "pygments_lexer": "ipython3",
   "version": "3.10.12"
  },
  "orig_nbformat": 4
 },
 "nbformat": 4,
 "nbformat_minor": 2
}
