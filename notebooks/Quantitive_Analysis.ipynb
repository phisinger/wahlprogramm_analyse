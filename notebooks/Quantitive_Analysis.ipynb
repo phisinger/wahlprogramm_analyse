{
 "cells": [
  {
   "cell_type": "code",
   "execution_count": 3,
   "metadata": {},
   "outputs": [],
   "source": [
    "import os\n",
    "from pathlib import Path\n",
    "import glob"
   ]
  },
  {
   "cell_type": "code",
   "execution_count": 9,
   "metadata": {},
   "outputs": [
    {
     "name": "stdout",
     "output_type": "stream",
     "text": [
      "6\n"
     ]
    }
   ],
   "source": [
    "txt_data_path = os.path.join(Path().resolve().parent, \"data\", \"text\")\n",
    "\n",
    "text_data = {}\n",
    "\n",
    "for year in [\"2013\", \"2017\", \"2021\"]:\n",
    "    text_data[year] = {}\n",
    "    for party in [\"spd\", \"fdp\", \"cdu\", \"afd\", \"gruene\", \"linke\"]:\n",
    "        filename = party+\"_\"+year+\".txt\"\n",
    "        file_path = os.path.join(txt_data_path, filename)\n",
    "\n",
    "        # read txt\n",
    "        with open(file_path, 'rb') as in_file:\n",
    "            text_data[year][party] = in_file.read()\n",
    "            "
   ]
  },
  {
   "cell_type": "code",
   "execution_count": null,
   "metadata": {},
   "outputs": [],
   "source": []
  }
 ],
 "metadata": {
  "kernelspec": {
   "display_name": "text310",
   "language": "python",
   "name": "python3"
  },
  "language_info": {
   "codemirror_mode": {
    "name": "ipython",
    "version": 3
   },
   "file_extension": ".py",
   "mimetype": "text/x-python",
   "name": "python",
   "nbconvert_exporter": "python",
   "pygments_lexer": "ipython3",
   "version": "3.10.12"
  },
  "orig_nbformat": 4
 },
 "nbformat": 4,
 "nbformat_minor": 2
}
